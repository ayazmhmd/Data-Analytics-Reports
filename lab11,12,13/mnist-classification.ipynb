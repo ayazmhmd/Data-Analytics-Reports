{
 "cells": [
  {
   "cell_type": "code",
   "execution_count": 1,
   "id": "15320ec0",
   "metadata": {
    "execution": {
     "iopub.execute_input": "2022-02-28T21:48:46.652202Z",
     "iopub.status.busy": "2022-02-28T21:48:46.645790Z",
     "iopub.status.idle": "2022-02-28T21:48:52.914974Z",
     "shell.execute_reply": "2022-02-28T21:48:52.915510Z"
    },
    "id": "cJYXxbiLJnlu",
    "papermill": {
     "duration": 6.308618,
     "end_time": "2022-02-28T21:48:52.915831",
     "exception": false,
     "start_time": "2022-02-28T21:48:46.607213",
     "status": "completed"
    },
    "tags": []
   },
   "outputs": [],
   "source": [
    "from tensorflow import keras"
   ]
  },
  {
   "cell_type": "code",
   "execution_count": 2,
   "id": "841bd8ac",
   "metadata": {
    "execution": {
     "iopub.execute_input": "2022-02-28T21:48:52.980185Z",
     "iopub.status.busy": "2022-02-28T21:48:52.979433Z",
     "iopub.status.idle": "2022-02-28T21:48:55.277744Z",
     "shell.execute_reply": "2022-02-28T21:48:55.277069Z"
    },
    "id": "BKQtPbD8JuMa",
    "papermill": {
     "duration": 2.331128,
     "end_time": "2022-02-28T21:48:55.277904",
     "exception": false,
     "start_time": "2022-02-28T21:48:52.946776",
     "status": "completed"
    },
    "tags": []
   },
   "outputs": [],
   "source": [
    "(X_train, y_train), (X_test, y_test) = keras.datasets.mnist.load_data()"
   ]
  },
  {
   "cell_type": "code",
   "execution_count": 3,
   "id": "5ac4fbf7",
   "metadata": {
    "execution": {
     "iopub.execute_input": "2022-02-28T21:48:55.348686Z",
     "iopub.status.busy": "2022-02-28T21:48:55.347863Z",
     "iopub.status.idle": "2022-02-28T21:48:56.187255Z",
     "shell.execute_reply": "2022-02-28T21:48:56.186158Z"
    },
    "id": "ZsGV-sK6J0Mo",
    "papermill": {
     "duration": 0.877034,
     "end_time": "2022-02-28T21:48:56.187448",
     "exception": false,
     "start_time": "2022-02-28T21:48:55.310414",
     "status": "completed"
    },
    "tags": []
   },
   "outputs": [],
   "source": [
    "from sklearn.model_selection import train_test_split"
   ]
  },
  {
   "cell_type": "code",
   "execution_count": 4,
   "id": "b5f040f0",
   "metadata": {
    "execution": {
     "iopub.execute_input": "2022-02-28T21:48:56.258941Z",
     "iopub.status.busy": "2022-02-28T21:48:56.258270Z",
     "iopub.status.idle": "2022-02-28T21:48:56.333456Z",
     "shell.execute_reply": "2022-02-28T21:48:56.332752Z"
    },
    "id": "xiGzNxesJ93O",
    "papermill": {
     "duration": 0.113041,
     "end_time": "2022-02-28T21:48:56.333620",
     "exception": false,
     "start_time": "2022-02-28T21:48:56.220579",
     "status": "completed"
    },
    "tags": []
   },
   "outputs": [],
   "source": [
    "X_train, X_val, y_train, y_val = train_test_split(X_train,\n",
    "                                                  y_train)"
   ]
  },
  {
   "cell_type": "code",
   "execution_count": 5,
   "id": "aaa73d02",
   "metadata": {
    "execution": {
     "iopub.execute_input": "2022-02-28T21:48:56.404726Z",
     "iopub.status.busy": "2022-02-28T21:48:56.403641Z",
     "iopub.status.idle": "2022-02-28T21:48:56.405563Z",
     "shell.execute_reply": "2022-02-28T21:48:56.406106Z"
    },
    "id": "97yvPRPoKZEx",
    "papermill": {
     "duration": 0.039858,
     "end_time": "2022-02-28T21:48:56.406286",
     "exception": false,
     "start_time": "2022-02-28T21:48:56.366428",
     "status": "completed"
    },
    "tags": []
   },
   "outputs": [],
   "source": [
    "import matplotlib.pyplot as plt"
   ]
  },
  {
   "cell_type": "code",
   "execution_count": 6,
   "id": "f04364c4",
   "metadata": {
    "execution": {
     "iopub.execute_input": "2022-02-28T21:48:56.486655Z",
     "iopub.status.busy": "2022-02-28T21:48:56.485628Z",
     "iopub.status.idle": "2022-02-28T21:48:56.698443Z",
     "shell.execute_reply": "2022-02-28T21:48:56.699371Z"
    },
    "id": "Bc274FwcMqu5",
    "outputId": "c5508e48-853b-4d98-bade-e38d52c0f18e",
    "papermill": {
     "duration": 0.258975,
     "end_time": "2022-02-28T21:48:56.699670",
     "exception": false,
     "start_time": "2022-02-28T21:48:56.440695",
     "status": "completed"
    },
    "tags": []
   },
   "outputs": [
    {
     "name": "stderr",
     "output_type": "stream",
     "text": [
      "<ipython-input-6-398868551ec8>:10: UserWarning: Matplotlib is currently using module://ipykernel.pylab.backend_inline, which is a non-GUI backend, so cannot show the figure.\n",
      "  fig.show()\n"
     ]
    },
    {
     "data": {
      "image/png": "[encoded data removed]",
      "text/plain": [
       "<Figure size 720x720 with 4 Axes>"
      ]
     },
     "metadata": {
      "needs_background": "light"
     },
     "output_type": "display_data"
    }
   ],
   "source": [
    "fig, axs = plt.subplots(1, 4, figsize= (10, 10))\n",
    "axs[0].imshow(X_train[0], cmap='gray')\n",
    "axs[1].imshow(X_train[5], cmap='gray')\n",
    "axs[2].imshow(X_train[9], cmap='gray')\n",
    "axs[3].imshow(X_train[12], cmap='gray')\n",
    "axs[0].axis(False)\n",
    "axs[1].axis(False)\n",
    "axs[2].axis(False)\n",
    "axs[3].axis(False)\n",
    "fig.show()"
   ]
  },
  {
   "cell_type": "code",
   "execution_count": 7,
   "id": "267ab524",
   "metadata": {
    "execution": {
     "iopub.execute_input": "2022-02-28T21:48:56.771164Z",
     "iopub.status.busy": "2022-02-28T21:48:56.770463Z",
     "iopub.status.idle": "2022-02-28T21:48:56.858115Z",
     "shell.execute_reply": "2022-02-28T21:48:56.856835Z"
    },
    "id": "G44SxQezLGOO",
    "outputId": "dc2daa8a-d8a0-4503-b7df-f90e6810d317",
    "papermill": {
     "duration": 0.123715,
     "end_time": "2022-02-28T21:48:56.858413",
     "exception": false,
     "start_time": "2022-02-28T21:48:56.734698",
     "status": "completed"
    },
    "tags": []
   },
   "outputs": [
    {
     "data": {
      "image/png": "[encoded data removed]",
      "text/plain": [
       "<Figure size 432x288 with 1 Axes>"
      ]
     },
     "metadata": {
      "needs_background": "light"
     },
     "output_type": "display_data"
    }
   ],
   "source": [
    "plt.imshow(X_train[33], cmap='gray', vmin=0, vmax=255)\n",
    "plt.axis(False)\n",
    "plt.show()"
   ]
  },
  {
   "cell_type": "code",
   "execution_count": 8,
   "id": "f2ab43c1",
   "metadata": {
    "execution": {
     "iopub.execute_input": "2022-02-28T21:48:56.958530Z",
     "iopub.status.busy": "2022-02-28T21:48:56.957472Z",
     "iopub.status.idle": "2022-02-28T21:48:57.113697Z",
     "shell.execute_reply": "2022-02-28T21:48:57.114287Z"
    },
    "id": "vB2mfCFhLSx9",
    "papermill": {
     "duration": 0.196994,
     "end_time": "2022-02-28T21:48:57.114502",
     "exception": false,
     "start_time": "2022-02-28T21:48:56.917508",
     "status": "completed"
    },
    "tags": []
   },
   "outputs": [],
   "source": [
    "model = keras.models.Sequential(\n",
    "    [keras.layers.Flatten(input_shape=(28, 28)), \n",
    "     keras.layers.Dense(300, activation = 'relu'), \n",
    "     keras.layers.Dense(100, activation = 'relu'),\n",
    "     keras.layers.Dense(50, activation = 'relu'), \n",
    "     keras.layers.Dense(10, activation = 'softmax')]\n",
    ")"
   ]
  },
  {
   "cell_type": "code",
   "execution_count": 9,
   "id": "e350e4b3",
   "metadata": {
    "execution": {
     "iopub.execute_input": "2022-02-28T21:48:57.190104Z",
     "iopub.status.busy": "2022-02-28T21:48:57.189378Z",
     "iopub.status.idle": "2022-02-28T21:48:57.197092Z",
     "shell.execute_reply": "2022-02-28T21:48:57.197973Z"
    },
    "id": "yMw-kESXTUt_",
    "outputId": "4787023e-cb62-4f16-b9f3-e0ca73ecb1fe",
    "papermill": {
     "duration": 0.048779,
     "end_time": "2022-02-28T21:48:57.198241",
     "exception": false,
     "start_time": "2022-02-28T21:48:57.149462",
     "status": "completed"
    },
    "tags": []
   },
   "outputs": [
    {
     "name": "stdout",
     "output_type": "stream",
     "text": [
      "Model: \"sequential\"\n",
      "_________________________________________________________________\n",
      "Layer (type)                 Output Shape              Param #   \n",
      "=================================================================\n",
      "flatten (Flatten)            (None, 784)               0         \n",
      "_________________________________________________________________\n",
      "dense (Dense)                (None, 300)               235500    \n",
      "_________________________________________________________________\n",
      "dense_1 (Dense)              (None, 100)               30100     \n",
      "_________________________________________________________________\n",
      "dense_2 (Dense)              (None, 50)                5050      \n",
      "_________________________________________________________________\n",
      "dense_3 (Dense)              (None, 10)                510       \n",
      "=================================================================\n",
      "Total params: 271,160\n",
      "Trainable params: 271,160\n",
      "Non-trainable params: 0\n",
      "_________________________________________________________________\n"
     ]
    }
   ],
   "source": [
    "model.summary()"
   ]
  },
  {
   "cell_type": "code",
   "execution_count": 10,
   "id": "28a7a4ba",
   "metadata": {
    "execution": {
     "iopub.execute_input": "2022-02-28T21:48:57.275566Z",
     "iopub.status.busy": "2022-02-28T21:48:57.274787Z",
     "iopub.status.idle": "2022-02-28T21:48:58.269214Z",
     "shell.execute_reply": "2022-02-28T21:48:58.269905Z"
    },
    "id": "Dbe9-XNDTYhQ",
    "outputId": "1d66c0d8-637d-4b9c-a0fc-3faf52cf64a4",
    "papermill": {
     "duration": 1.034791,
     "end_time": "2022-02-28T21:48:58.270125",
     "exception": false,
     "start_time": "2022-02-28T21:48:57.235334",
     "status": "completed"
    },
    "tags": []
   },
   "outputs": [
    {
     "name": "stdout",
     "output_type": "stream",
     "text": [
      "('You must install pydot (`pip install pydot`) and install graphviz (see instructions at https://graphviz.gitlab.io/download/) ', 'for plot_model/model_to_dot to work.')\n"
     ]
    }
   ],
   "source": [
    "keras.utils.plot_model(model)"
   ]
  },
  {
   "cell_type": "code",
   "execution_count": 11,
   "id": "55cef6ab",
   "metadata": {
    "execution": {
     "iopub.execute_input": "2022-02-28T21:48:58.356638Z",
     "iopub.status.busy": "2022-02-28T21:48:58.355915Z",
     "iopub.status.idle": "2022-02-28T21:48:58.364545Z",
     "shell.execute_reply": "2022-02-28T21:48:58.365153Z"
    },
    "id": "CDshTZMXO3Mc",
    "papermill": {
     "duration": 0.058839,
     "end_time": "2022-02-28T21:48:58.365335",
     "exception": false,
     "start_time": "2022-02-28T21:48:58.306496",
     "status": "completed"
    },
    "tags": []
   },
   "outputs": [],
   "source": [
    "model.compile(loss = [keras.losses.sparse_categorical_crossentropy]\n",
    "              , optimizer = keras.optimizers.Adam(), \n",
    "              metrics = [keras.metrics.sparse_categorical_accuracy])"
   ]
  },
  {
   "cell_type": "code",
   "execution_count": 12,
   "id": "7a30f9c1",
   "metadata": {
    "execution": {
     "iopub.execute_input": "2022-02-28T21:48:58.441720Z",
     "iopub.status.busy": "2022-02-28T21:48:58.440748Z",
     "iopub.status.idle": "2022-02-28T21:48:58.445109Z",
     "shell.execute_reply": "2022-02-28T21:48:58.445644Z"
    },
    "id": "98S5B2RYQkhQ",
    "papermill": {
     "duration": 0.04419,
     "end_time": "2022-02-28T21:48:58.445820",
     "exception": false,
     "start_time": "2022-02-28T21:48:58.401630",
     "status": "completed"
    },
    "tags": []
   },
   "outputs": [],
   "source": [
    "#check_point = keras.callbacks.ModelCheckpoint(\"mnist_keras_v0.h5\")\n",
    "early_stopping = keras.callbacks.EarlyStopping(patience=10, \n",
    "                                              restore_best_weights = True)"
   ]
  },
  {
   "cell_type": "code",
   "execution_count": 13,
   "id": "66fade39",
   "metadata": {
    "execution": {
     "iopub.execute_input": "2022-02-28T21:48:58.522556Z",
     "iopub.status.busy": "2022-02-28T21:48:58.521517Z",
     "iopub.status.idle": "2022-02-28T21:48:58.527696Z",
     "shell.execute_reply": "2022-02-28T21:48:58.528294Z"
    },
    "id": "8zaASQJzUOAr",
    "outputId": "2350d1c8-79a4-4aae-ce4f-ae82ff62d5fd",
    "papermill": {
     "duration": 0.04636,
     "end_time": "2022-02-28T21:48:58.528477",
     "exception": false,
     "start_time": "2022-02-28T21:48:58.482117",
     "status": "completed"
    },
    "tags": []
   },
   "outputs": [
    {
     "data": {
      "text/plain": [
       "(45000, 28, 28)"
      ]
     },
     "execution_count": 13,
     "metadata": {},
     "output_type": "execute_result"
    }
   ],
   "source": [
    "X_train.shape"
   ]
  },
  {
   "cell_type": "code",
   "execution_count": 14,
   "id": "8affd5d3",
   "metadata": {
    "execution": {
     "iopub.execute_input": "2022-02-28T21:48:58.611948Z",
     "iopub.status.busy": "2022-02-28T21:48:58.610792Z",
     "iopub.status.idle": "2022-02-28T21:51:40.735819Z",
     "shell.execute_reply": "2022-02-28T21:51:40.735100Z"
    },
    "id": "1nr818W5PUFZ",
    "outputId": "e42bb205-1162-4a12-dded-f22fae0d9188",
    "papermill": {
     "duration": 162.169241,
     "end_time": "2022-02-28T21:51:40.735995",
     "exception": false,
     "start_time": "2022-02-28T21:48:58.566754",
     "status": "completed"
    },
    "tags": []
   },
   "outputs": [
    {
     "name": "stdout",
     "output_type": "stream",
     "text": [
      "Epoch 1/30\n",
      "1407/1407 [==============================] - 7s 4ms/step - loss: 0.9820 - sparse_categorical_accuracy: 0.8059 - val_loss: 0.4783 - val_sparse_categorical_accuracy: 0.8694\n",
      "Epoch 2/30\n",
      "1407/1407 [==============================] - 6s 4ms/step - loss: 0.2947 - sparse_categorical_accuracy: 0.9269 - val_loss: 0.2915 - val_sparse_categorical_accuracy: 0.9265\n",
      "Epoch 3/30\n",
      "1407/1407 [==============================] - 6s 4ms/step - loss: 0.1946 - sparse_categorical_accuracy: 0.9485 - val_loss: 0.1954 - val_sparse_categorical_accuracy: 0.9463\n",
      "Epoch 4/30\n",
      "1407/1407 [==============================] - 6s 4ms/step - loss: 0.1456 - sparse_categorical_accuracy: 0.9598 - val_loss: 0.1628 - val_sparse_categorical_accuracy: 0.9593\n",
      "Epoch 5/30\n",
      "1407/1407 [==============================] - 6s 4ms/step - loss: 0.1231 - sparse_categorical_accuracy: 0.9667 - val_loss: 0.1829 - val_sparse_categorical_accuracy: 0.9532\n",
      "Epoch 6/30\n",
      "1407/1407 [==============================] - 6s 4ms/step - loss: 0.1053 - sparse_categorical_accuracy: 0.9711 - val_loss: 0.1845 - val_sparse_categorical_accuracy: 0.9557\n",
      "Epoch 7/30\n",
      "1407/1407 [==============================] - 6s 4ms/step - loss: 0.0932 - sparse_categorical_accuracy: 0.9746 - val_loss: 0.1713 - val_sparse_categorical_accuracy: 0.9592\n",
      "Epoch 8/30\n",
      "1407/1407 [==============================] - 6s 4ms/step - loss: 0.0776 - sparse_categorical_accuracy: 0.9786 - val_loss: 0.1230 - val_sparse_categorical_accuracy: 0.9710\n",
      "Epoch 9/30\n",
      "1407/1407 [==============================] - 6s 4ms/step - loss: 0.0764 - sparse_categorical_accuracy: 0.9798 - val_loss: 0.1760 - val_sparse_categorical_accuracy: 0.9574\n",
      "Epoch 10/30\n",
      "1407/1407 [==============================] - 6s 4ms/step - loss: 0.0628 - sparse_categorical_accuracy: 0.9831 - val_loss: 0.1382 - val_sparse_categorical_accuracy: 0.9686\n",
      "Epoch 11/30\n",
      "1407/1407 [==============================] - 6s 4ms/step - loss: 0.0684 - sparse_categorical_accuracy: 0.9826 - val_loss: 0.1743 - val_sparse_categorical_accuracy: 0.9672\n",
      "Epoch 12/30\n",
      "1407/1407 [==============================] - 6s 4ms/step - loss: 0.0610 - sparse_categorical_accuracy: 0.9843 - val_loss: 0.1356 - val_sparse_categorical_accuracy: 0.9725\n",
      "Epoch 13/30\n",
      "1407/1407 [==============================] - 6s 4ms/step - loss: 0.0495 - sparse_categorical_accuracy: 0.9868 - val_loss: 0.1605 - val_sparse_categorical_accuracy: 0.9687\n",
      "Epoch 14/30\n",
      "1407/1407 [==============================] - 6s 4ms/step - loss: 0.0495 - sparse_categorical_accuracy: 0.9877 - val_loss: 0.1512 - val_sparse_categorical_accuracy: 0.9713\n",
      "Epoch 15/30\n",
      "1407/1407 [==============================] - 6s 4ms/step - loss: 0.0497 - sparse_categorical_accuracy: 0.9880 - val_loss: 0.1856 - val_sparse_categorical_accuracy: 0.9668\n",
      "Epoch 16/30\n",
      "1407/1407 [==============================] - 6s 4ms/step - loss: 0.0515 - sparse_categorical_accuracy: 0.9871 - val_loss: 0.1563 - val_sparse_categorical_accuracy: 0.9735\n",
      "Epoch 17/30\n",
      "1407/1407 [==============================] - 6s 4ms/step - loss: 0.0445 - sparse_categorical_accuracy: 0.9892 - val_loss: 0.1652 - val_sparse_categorical_accuracy: 0.9712\n",
      "Epoch 18/30\n",
      "1407/1407 [==============================] - 6s 4ms/step - loss: 0.0409 - sparse_categorical_accuracy: 0.9908 - val_loss: 0.2192 - val_sparse_categorical_accuracy: 0.9681\n"
     ]
    }
   ],
   "source": [
    "history = model.fit(X_train, y_train, epochs = 30,\n",
    "                    validation_data = (X_val, y_val), \n",
    "                    callbacks = [early_stopping])"
   ]
  },
  {
   "cell_type": "code",
   "execution_count": 15,
   "id": "5c272aee",
   "metadata": {
    "execution": {
     "iopub.execute_input": "2022-02-28T21:51:42.794554Z",
     "iopub.status.busy": "2022-02-28T21:51:42.793778Z",
     "iopub.status.idle": "2022-02-28T21:51:42.797126Z",
     "shell.execute_reply": "2022-02-28T21:51:42.797623Z"
    },
    "id": "0H_5GUgfRDlY",
    "papermill": {
     "duration": 1.030392,
     "end_time": "2022-02-28T21:51:42.797815",
     "exception": false,
     "start_time": "2022-02-28T21:51:41.767423",
     "status": "completed"
    },
    "tags": []
   },
   "outputs": [],
   "source": [
    "import pandas as pd"
   ]
  },
  {
   "cell_type": "code",
   "execution_count": 16,
   "id": "8c959029",
   "metadata": {
    "execution": {
     "iopub.execute_input": "2022-02-28T21:51:44.872615Z",
     "iopub.status.busy": "2022-02-28T21:51:44.871956Z",
     "iopub.status.idle": "2022-02-28T21:51:45.168550Z",
     "shell.execute_reply": "2022-02-28T21:51:45.169098Z"
    },
    "id": "VMUkdKVnRs-H",
    "outputId": "1c498936-0278-45ad-b2d5-fc765e68e4d7",
    "papermill": {
     "duration": 1.333795,
     "end_time": "2022-02-28T21:51:45.169339",
     "exception": false,
     "start_time": "2022-02-28T21:51:43.835544",
     "status": "completed"
    },
    "tags": []
   },
   "outputs": [
    {
     "data": {
      "image/png": "[encoded data removed]",
      "text/plain": [
       "<Figure size 432x288 with 1 Axes>"
      ]
     },
     "metadata": {
      "needs_background": "light"
     },
     "output_type": "display_data"
    }
   ],
   "source": [
    "pd.DataFrame(history.history).plot()\n",
    "plt.show()"
   ]
  },
  {
   "cell_type": "code",
   "execution_count": 17,
   "id": "9f6ee568",
   "metadata": {
    "execution": {
     "iopub.execute_input": "2022-02-28T21:51:47.378430Z",
     "iopub.status.busy": "2022-02-28T21:51:47.377610Z",
     "iopub.status.idle": "2022-02-28T21:51:48.414984Z",
     "shell.execute_reply": "2022-02-28T21:51:48.414406Z"
    },
    "id": "pgbmQmTMRxZn",
    "outputId": "ec2443bb-70c2-4291-f46c-8b6651fddf60",
    "papermill": {
     "duration": 2.203729,
     "end_time": "2022-02-28T21:51:48.415168",
     "exception": false,
     "start_time": "2022-02-28T21:51:46.211439",
     "status": "completed"
    },
    "tags": []
   },
   "outputs": [
    {
     "name": "stdout",
     "output_type": "stream",
     "text": [
      "313/313 [==============================] - 1s 3ms/step - loss: 0.1250 - sparse_categorical_accuracy: 0.9710\n"
     ]
    },
    {
     "data": {
      "text/plain": [
       "[0.12498439848423004, 0.9710000157356262]"
      ]
     },
     "execution_count": 17,
     "metadata": {},
     "output_type": "execute_result"
    }
   ],
   "source": [
    "model.evaluate(X_test, y_test)"
   ]
  },
  {
   "cell_type": "code",
   "execution_count": 19,
   "id": "116213d5",
   "metadata": {
    "execution": {
     "iopub.execute_input": "2022-02-28T21:51:53.545190Z",
     "iopub.status.busy": "2022-02-28T21:51:53.544205Z",
     "iopub.status.idle": "2022-02-28T21:51:53.547759Z",
     "shell.execute_reply": "2022-02-28T21:51:53.547182Z"
    },
    "id": "zOTl2xesZtsz",
    "papermill": {
     "duration": 1.061719,
     "end_time": "2022-02-28T21:51:53.547918",
     "exception": false,
     "start_time": "2022-02-28T21:51:52.486199",
     "status": "completed"
    },
    "tags": []
   },
   "outputs": [],
   "source": [
    "from sklearn.metrics import confusion_matrix"
   ]
  },
  {
   "cell_type": "code",
   "execution_count": 20,
   "id": "58ce30c8",
   "metadata": {
    "execution": {
     "iopub.execute_input": "2022-02-28T21:51:55.653969Z",
     "iopub.status.busy": "2022-02-28T21:51:55.653318Z",
     "iopub.status.idle": "2022-02-28T21:51:55.655412Z",
     "shell.execute_reply": "2022-02-28T21:51:55.654760Z"
    },
    "id": "IULOgX-_a5gC",
    "papermill": {
     "duration": 1.052875,
     "end_time": "2022-02-28T21:51:55.655560",
     "exception": false,
     "start_time": "2022-02-28T21:51:54.602685",
     "status": "completed"
    },
    "tags": []
   },
   "outputs": [],
   "source": [
    "import numpy as np"
   ]
  },
  {
   "cell_type": "code",
   "execution_count": 21,
   "id": "5daf74a5",
   "metadata": {
    "execution": {
     "iopub.execute_input": "2022-02-28T21:51:57.735485Z",
     "iopub.status.busy": "2022-02-28T21:51:57.734684Z",
     "iopub.status.idle": "2022-02-28T21:51:58.448279Z",
     "shell.execute_reply": "2022-02-28T21:51:58.448809Z"
    },
    "id": "r_YCu3nAaEW-",
    "papermill": {
     "duration": 1.751825,
     "end_time": "2022-02-28T21:51:58.448990",
     "exception": false,
     "start_time": "2022-02-28T21:51:56.697165",
     "status": "completed"
    },
    "tags": []
   },
   "outputs": [],
   "source": [
    "conf_mat = confusion_matrix(y_true = y_test, y_pred = np.argmax(model.predict(X_test), axis = 1))"
   ]
  },
  {
   "cell_type": "code",
   "execution_count": 22,
   "id": "a5583de4",
   "metadata": {
    "execution": {
     "iopub.execute_input": "2022-02-28T21:52:00.545648Z",
     "iopub.status.busy": "2022-02-28T21:52:00.544945Z",
     "iopub.status.idle": "2022-02-28T21:52:00.714464Z",
     "shell.execute_reply": "2022-02-28T21:52:00.714988Z"
    },
    "id": "9mhhmK8Iat0l",
    "outputId": "f983d574-16c4-4bbd-8e27-47d1ef840b25",
    "papermill": {
     "duration": 1.221648,
     "end_time": "2022-02-28T21:52:00.715192",
     "exception": false,
     "start_time": "2022-02-28T21:51:59.493544",
     "status": "completed"
    },
    "tags": []
   },
   "outputs": [
    {
     "data": {
      "image/png": "[encoded data removed]",
      "text/plain": [
       "<Figure size 432x288 with 1 Axes>"
      ]
     },
     "metadata": {
      "needs_background": "light"
     },
     "output_type": "display_data"
    }
   ],
   "source": [
    "plt.imshow(conf_mat, cmap = 'gray', vmin = 0, vmax = 255)\n",
    "plt.show()"
   ]
  },
  {
   "cell_type": "code",
   "execution_count": null,
   "id": "e98f8e43",
   "metadata": {
    "id": "Ec9JejtFlEvc",
    "papermill": {
     "duration": 1.695339,
     "end_time": "2022-02-28T21:54:30.845739",
     "exception": false,
     "start_time": "2022-02-28T21:54:29.150400",
     "status": "completed"
    },
    "tags": []
   },
   "outputs": [],
   "source": []
  }
 ],
 "metadata": {
  "kernelspec": {
   "display_name": "Python 3",
   "language": "python",
   "name": "python3"
  },
  "language_info": {
   "codemirror_mode": {
    "name": "ipython",
    "version": 3
   },
   "file_extension": ".py",
   "mimetype": "text/x-python",
   "name": "python",
   "nbconvert_exporter": "python",
   "pygments_lexer": "ipython3",
   "version": "3.8.8"
  },
  "papermill": {
   "default_parameters": {},
   "duration": 361.023471,
   "end_time": "2022-02-28T21:54:35.680299",
   "environment_variables": {},
   "exception": null,
   "input_path": "__notebook__.ipynb",
   "output_path": "__notebook__.ipynb",
   "parameters": {},
   "start_time": "2022-02-28T21:48:34.656828",
   "version": "2.3.3"
  }
 },
 "nbformat": 4,
 "nbformat_minor": 5
}
